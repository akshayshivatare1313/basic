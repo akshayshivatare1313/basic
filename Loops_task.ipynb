{
 "cells": [
  {
   "cell_type": "markdown",
   "id": "9a89f732",
   "metadata": {},
   "source": [
    "### <span style='color: red; font-family: Arial; font-si2e: 6em;'>Loops Tasks</span>"
   ]
  },
  {
   "cell_type": "markdown",
   "id": "4d957a38",
   "metadata": {},
   "source": [
    "### 1.\tPrint numbers from 1 to 10 using a for loop"
   ]
  },
  {
   "cell_type": "code",
   "execution_count": 3,
   "id": "563b5751",
   "metadata": {},
   "outputs": [
    {
     "name": "stdout",
     "output_type": "stream",
     "text": [
      "1\n",
      "2\n",
      "3\n",
      "4\n",
      "5\n",
      "6\n",
      "7\n",
      "8\n",
      "9\n",
      "10\n"
     ]
    }
   ],
   "source": [
    "for i in range(1,11):\n",
    "    print(i)"
   ]
  },
  {
   "cell_type": "markdown",
   "id": "0ed65f7e",
   "metadata": {},
   "source": [
    "### 2.\tCalculate the sum of numbers from 1 to 10 using a for loop"
   ]
  },
  {
   "cell_type": "code",
   "execution_count": 5,
   "id": "be579447",
   "metadata": {},
   "outputs": [
    {
     "name": "stdout",
     "output_type": "stream",
     "text": [
      "sum of numbers from 1 to 10 is 55\n"
     ]
    }
   ],
   "source": [
    "sum = 0\n",
    "for i in range (1,11):\n",
    "    sum += i\n",
    "print(f\"sum of numbers from 1 to 10 is {sum}\")"
   ]
  },
  {
   "cell_type": "markdown",
   "id": "b3c00caa",
   "metadata": {},
   "source": [
    "### 3.\tPrint the elements of a list using a for loop"
   ]
  },
  {
   "cell_type": "code",
   "execution_count": 6,
   "id": "f407dae0",
   "metadata": {},
   "outputs": [
    {
     "name": "stdout",
     "output_type": "stream",
     "text": [
      "a\n",
      "1\n",
      "k\n",
      "2\n",
      "s\n",
      "3\n",
      "h\n"
     ]
    }
   ],
   "source": [
    "my_list = ['a',1,'k',2,'s',3,'h']\n",
    "for e in my_list:\n",
    "    print(e)"
   ]
  },
  {
   "cell_type": "markdown",
   "id": "e4ba3178",
   "metadata": {},
   "source": [
    "### 4.\tCalculate the product of elements in a list using a for loop"
   ]
  },
  {
   "cell_type": "code",
   "execution_count": 7,
   "id": "0f88d831",
   "metadata": {},
   "outputs": [
    {
     "name": "stdout",
     "output_type": "stream",
     "text": [
      "The product of elements in my loop is 945\n"
     ]
    }
   ],
   "source": [
    "my_list = [1,3,5,7,9]\n",
    "\n",
    "product = 1\n",
    "for p in my_list:\n",
    "    product *= p\n",
    "\n",
    "print(f\"The product of elements in my loop is {product}\")"
   ]
  },
  {
   "cell_type": "markdown",
   "id": "65fbe8dd",
   "metadata": {},
   "source": [
    "### 5.\tPrint characters of a string using a for loop"
   ]
  },
  {
   "cell_type": "code",
   "execution_count": 8,
   "id": "dc4b5c09",
   "metadata": {},
   "outputs": [
    {
     "name": "stdout",
     "output_type": "stream",
     "text": [
      "H\n",
      "e\n",
      "l\n",
      "l\n",
      "o\n",
      " \n",
      "A\n",
      "k\n",
      "s\n",
      "h\n",
      "a\n",
      "y\n",
      "!\n"
     ]
    }
   ],
   "source": [
    "my_string = \"Hello Akshay!\"\n",
    "for c in my_string:\n",
    "    print(c)"
   ]
  },
  {
   "cell_type": "markdown",
   "id": "ccdee7b0",
   "metadata": {},
   "source": [
    "### 6.\tFind the largest number in a list using a for loop"
   ]
  },
  {
   "cell_type": "code",
   "execution_count": 10,
   "id": "7c60d426",
   "metadata": {},
   "outputs": [
    {
     "name": "stdout",
     "output_type": "stream",
     "text": [
      "Largest number in the list is 900\n"
     ]
    }
   ],
   "source": [
    "my_list = [11,293,5,77,900,450,325,754]\n",
    "largest_no = my_list[0]\n",
    "for n in my_list:\n",
    "    if n > largest_no:\n",
    "        largest_no = n\n",
    "print(f\"Largest number in the list is {largest_no}\")"
   ]
  },
  {
   "cell_type": "markdown",
   "id": "4d8514f1",
   "metadata": {},
   "source": [
    "### 7.\tFind the average of numbers in a list using a for loop"
   ]
  },
  {
   "cell_type": "code",
   "execution_count": 12,
   "id": "467684fa",
   "metadata": {},
   "outputs": [
    {
     "name": "stdout",
     "output_type": "stream",
     "text": [
      "Average of numbers in the list is 5.0\n"
     ]
    }
   ],
   "source": [
    "my_list = [1,3,5,7,9]\n",
    "\n",
    "sum_of_numbers = 0\n",
    "count_of_numbers = 0\n",
    "\n",
    "for n in my_list:\n",
    "    sum_of_numbers += n\n",
    "    count_of_numbers += 1\n",
    "avg = sum_of_numbers / count_of_numbers\n",
    "\n",
    "print(f\"Average of numbers in the list is {avg}\")"
   ]
  },
  {
   "cell_type": "markdown",
   "id": "2cfe5b0f",
   "metadata": {},
   "source": [
    "### 8.\tCalculate factorial of a number using a while loop"
   ]
  },
  {
   "cell_type": "code",
   "execution_count": 14,
   "id": "453bb358",
   "metadata": {},
   "outputs": [
    {
     "name": "stdout",
     "output_type": "stream",
     "text": [
      "Enter the number to find its factorial :5\n",
      "The factorial of 5 is 120\n"
     ]
    }
   ],
   "source": [
    "def factorial(n):\n",
    "    result = 1\n",
    "    \n",
    "    while n > 0:\n",
    "        result *= n\n",
    "        n -= 1\n",
    "    \n",
    "    return result\n",
    "\n",
    "number = int(input(\"Enter the number to find its factorial :\"))\n",
    "result = factorial(number)\n",
    "print(f\"The factorial of {number} is {result}\")"
   ]
  },
  {
   "cell_type": "markdown",
   "id": "a0337264",
   "metadata": {},
   "source": [
    "### 9.\tFind the first occurrence of a number in a list using a while loop"
   ]
  },
  {
   "cell_type": "code",
   "execution_count": 22,
   "id": "8b3b1001",
   "metadata": {},
   "outputs": [
    {
     "name": "stdout",
     "output_type": "stream",
     "text": [
      "Enter the number that you want to find its first occurance :8\n",
      "the first occurance of 8 is :2\n"
     ]
    }
   ],
   "source": [
    "my_list = [10,5,8,15,8,3,5,62,8,3,9]\n",
    "target_no = int(input(\"Enter the number that you want to find its first occurance :\"))\n",
    "i = 0\n",
    "while i < len(my_list):\n",
    "    if my_list[i] == target_no:\n",
    "        print(f\"the first occurance of {target_no} is :{i}\")\n",
    "        break\n",
    "\n",
    "    i += 1\n",
    "else:\n",
    "    print(f\"The target number {target_no} is not found in the list.\")\n",
    "    \n",
    "    "
   ]
  },
  {
   "cell_type": "markdown",
   "id": "2ce21298",
   "metadata": {},
   "source": [
    "### 10.\tFind the common elements in two lists using a for loop"
   ]
  },
  {
   "cell_type": "code",
   "execution_count": 23,
   "id": "01472018",
   "metadata": {},
   "outputs": [
    {
     "name": "stdout",
     "output_type": "stream",
     "text": [
      "Common elements are [3, 5]\n"
     ]
    }
   ],
   "source": [
    "list1 = [1, 2, 3, 4, 5]\n",
    "list2 = [3, 5, 7, 9, 11]\n",
    "common_elements = []\n",
    "\n",
    "for element in list1:\n",
    "    if element in list2:\n",
    "        common_elements.append(element)\n",
    "        \n",
    "print(f\"Common elements are {common_elements}\")"
   ]
  },
  {
   "cell_type": "markdown",
   "id": "1b768f87",
   "metadata": {},
   "source": [
    "### 11.\tWrite a program to display the sum of n terms of even natural numbers"
   ]
  },
  {
   "cell_type": "code",
   "execution_count": 25,
   "id": "d4f7f524",
   "metadata": {},
   "outputs": [
    {
     "name": "stdout",
     "output_type": "stream",
     "text": [
      "Enter the number :5\n",
      "sum of the n term of even natural numers is 30\n"
     ]
    }
   ],
   "source": [
    "num = int(input(\"Enter the number :\"))\n",
    "even_sum = 0\n",
    "for i in range(1, num+1):\n",
    "    even_num = 2 * i\n",
    "    even_sum += even_num\n",
    "print(f\"sum of the n term of even natural numers is {even_sum}\")    "
   ]
  },
  {
   "cell_type": "markdown",
   "id": "63b8be87",
   "metadata": {},
   "source": [
    "### 12.\tWrite a program to find the Armstrong number for a given range of number"
   ]
  },
  {
   "cell_type": "markdown",
   "id": "4db3585b",
   "metadata": {},
   "source": [
    "### 13.\tWrite a program in to convert a decimal number into binary without using a list"
   ]
  },
  {
   "cell_type": "code",
   "execution_count": 31,
   "id": "3793ce94",
   "metadata": {},
   "outputs": [
    {
     "name": "stdout",
     "output_type": "stream",
     "text": [
      "Enter Decimal number :96\n",
      "Binary conversion of 96 is 0b1100000\n",
      "Binary conversion of 0 is 1100000\n"
     ]
    }
   ],
   "source": [
    "decimal_no = int(input(\"Enter Decimal number :\"))\n",
    "################################################################\n",
    "binary_no = bin(decimal_no)\n",
    "print(f\"Binary conversion of {decimal_no} is {binary_no}\")\n",
    "\n",
    "##################################################################\n",
    "binary_representation = \"\"\n",
    "while decimal_no > 0:\n",
    "    binary_representation = str(decimal_no % 2) + binary_representation\n",
    "    decimal_no //= 2\n",
    "print(f\"Binary conversion of {decimal_no} is {binary_representation}\")"
   ]
  },
  {
   "cell_type": "markdown",
   "id": "9632e1d0",
   "metadata": {},
   "source": [
    "### 14.\tFind the number of occurrences of a character in a String"
   ]
  },
  {
   "cell_type": "code",
   "execution_count": 39,
   "id": "8fca617d",
   "metadata": {},
   "outputs": [
    {
     "name": "stdout",
     "output_type": "stream",
     "text": [
      "Enter the string :akshay\n",
      "Enter charcters to counnt :s\n",
      "'s' occurs 1 times in the string\n"
     ]
    }
   ],
   "source": [
    "str1 = input(\"Enter the string :\")\n",
    "chars_to_count = input(\"Enter charcters to counnt :\")\n",
    "\n",
    "occurances = 0\n",
    "\n",
    "for char in str1:\n",
    "    if char == chars_to_count:\n",
    "        occurances += 1\n",
    "    \n",
    "print(f\"'{chars_to_count}' occurs {occurances} times in the string\")\n"
   ]
  },
  {
   "cell_type": "markdown",
   "id": "7828adcb",
   "metadata": {},
   "source": [
    "### 15.\tHow to find out if the given two strings are anagrams or not?"
   ]
  },
  {
   "cell_type": "code",
   "execution_count": 44,
   "id": "7ad86e24",
   "metadata": {},
   "outputs": [
    {
     "name": "stdout",
     "output_type": "stream",
     "text": [
      "Enter the first string: A gentleman\n",
      "Enter the second string: Elegant maN\n",
      "a gentleman and elegant man are anagrams.\n"
     ]
    }
   ],
   "source": [
    "string1 = input(\"Enter the first string: \").lower()\n",
    "string2 = input(\"Enter the second string: \").lower()\n",
    "\n",
    "char_list1 = sorted(list(string1.replace(\" \", \"\")))\n",
    "char_list2 = sorted(list(string2.replace(\" \", \"\")))\n",
    "\n",
    "if char_list1 == char_list2:\n",
    "    print(f\"{string1} and {string2} are anagrams.\")\n",
    "else:\n",
    "    print(f\"{string1} and {string2} are not anagrams.\")"
   ]
  },
  {
   "cell_type": "markdown",
   "id": "d2a57e68",
   "metadata": {},
   "source": [
    "### 16.\tHow do you remove all occurrences of a given character from the input string"
   ]
  },
  {
   "cell_type": "code",
   "execution_count": 45,
   "id": "cdfc53c0",
   "metadata": {},
   "outputs": [
    {
     "name": "stdout",
     "output_type": "stream",
     "text": [
      "Enter a string: akshay shivatare\n",
      "Enter the character to remove: s\n",
      "The string after removing 's' is: akhay hivatare\n"
     ]
    }
   ],
   "source": [
    "input_string = input(\"Enter a string: \")\n",
    "char_to_remove = input(\"Enter the character to remove: \")\n",
    "\n",
    "result_string = ''.join(char for char in input_string if char != char_to_remove)\n",
    "\n",
    "print(f\"The string after removing '{char_to_remove}' is: {result_string}\")\n"
   ]
  },
  {
   "cell_type": "markdown",
   "id": "8ef37d3f",
   "metadata": {},
   "source": [
    "### 17.\tWrite a program using while loops to print the first 10 rows of Pascal's Triangle."
   ]
  },
  {
   "cell_type": "code",
   "execution_count": null,
   "id": "9c381bf1",
   "metadata": {},
   "outputs": [],
   "source": []
  },
  {
   "cell_type": "markdown",
   "id": "df59351f",
   "metadata": {},
   "source": [
    "### 18.\tCreate a  program to find the Greatest Common Divisor (GCD) and Least Common Multiple (LCM) of two numbers using a while loop."
   ]
  },
  {
   "cell_type": "code",
   "execution_count": 2,
   "id": "7ba267eb",
   "metadata": {},
   "outputs": [
    {
     "name": "stdout",
     "output_type": "stream",
     "text": [
      "Enter first number :20\n",
      "Enter second number :15\n",
      "The GCD of 20 & 15 is 5\n",
      "The LCM of 20 & 15 is 60\n"
     ]
    }
   ],
   "source": [
    "num1 = int(input(\"Enter first number :\"))\n",
    "num2 = int(input(\"Enter second number :\"))\n",
    "\n",
    "a = num1\n",
    "b = num2\n",
    "\n",
    "while b:\n",
    "    a,b = b,a % b\n",
    "    \n",
    "gcd = a\n",
    "\n",
    "lcm = (num1 * num2) // gcd\n",
    "\n",
    "print(f\"The GCD of {num1} & {num2} is {gcd}\")\n",
    "print(f\"The LCM of {num1} & {num2} is {lcm}\")\n"
   ]
  },
  {
   "cell_type": "markdown",
   "id": "df234767",
   "metadata": {},
   "source": [
    "### 19.\tImplement a program using a while loop to generate and print the Collatz sequence for a given starting number."
   ]
  },
  {
   "cell_type": "code",
   "execution_count": 3,
   "id": "effc38f5",
   "metadata": {},
   "outputs": [
    {
     "name": "stdout",
     "output_type": "stream",
     "text": [
      "Enter the starting number for the Collatz sequence: 15\n",
      "15 46 23 70 35 106 53 160 80 40 20 10 5 16 8 4 2 1\n"
     ]
    }
   ],
   "source": [
    "start_number = int(input(\"Enter the starting number for the Collatz sequence: \"))\n",
    "\n",
    "current_number = start_number\n",
    "while current_number != 1:\n",
    "    print(current_number, end=\" \")\n",
    "\n",
    "    if current_number % 2 == 0:\n",
    "        current_number //= 2\n",
    "    else:\n",
    "        current_number = 3 * current_number + 1\n",
    "\n",
    "print(current_number)\n"
   ]
  },
  {
   "cell_type": "markdown",
   "id": "62bfa5db",
   "metadata": {},
   "source": [
    "### 21.\tWrite a program to transpose a given matrix using a while loop"
   ]
  },
  {
   "cell_type": "code",
   "execution_count": 6,
   "id": "d233a1e8",
   "metadata": {},
   "outputs": [
    {
     "name": "stdout",
     "output_type": "stream",
     "text": [
      "[[1, 2, 3], [4, 5, 6]]\n",
      "[[1, 4], [2, 5], [3, 6]]\n"
     ]
    }
   ],
   "source": [
    "mat = [[1, 2, 3], [4, 5, 6]]\n",
    "print(mat)\n",
    "res = [[0, 0], [0, 0], [0, 0]]\n",
    "for i in range(len(mat)):\n",
    "    for j in range(len(mat[0])):\n",
    "        res[j][i] = mat[i][j]\n",
    "print(res)"
   ]
  },
  {
   "cell_type": "markdown",
   "id": "250629ea",
   "metadata": {},
   "source": [
    "### 22.\tImplement a program using while loops to print a palindromic pyramid pattern\n",
    "     1\n",
    "   121\n",
    "   12321\n",
    "   1234321\n",
    "   123454321\n"
   ]
  },
  {
   "cell_type": "code",
   "execution_count": 9,
   "id": "607eca93",
   "metadata": {},
   "outputs": [
    {
     "name": "stdout",
     "output_type": "stream",
     "text": [
      "Enter the number of rows for the pyramid: 5\n",
      "    1\n",
      "   121\n",
      "  12321\n",
      " 1234321\n",
      "123454321\n"
     ]
    }
   ],
   "source": [
    "rows = int(input(\"Enter the number of rows for the pyramid: \"))\n",
    "current_row = 1\n",
    "\n",
    "while current_row <= rows:\n",
    "    print(\" \" * (rows - current_row), end=\"\")\n",
    "\n",
    "    count = 1\n",
    "    while count <= current_row:\n",
    "        print(count, end=\"\")\n",
    "        count += 1\n",
    "\n",
    "    count -= 2\n",
    "    while count >= 1:\n",
    "        print(count, end=\"\")\n",
    "        count -= 1\n",
    "\n",
    "    print()\n",
    "    current_row += 1\n"
   ]
  },
  {
   "cell_type": "markdown",
   "id": "446e7f12",
   "metadata": {},
   "source": [
    "### 24.\tCreate a program using for loops to print a square matrix in spiral order\n",
    "1     2   3   4\n",
    "12 13 14   5\n",
    "11 16 15   6\n",
    "10  9    8    7\n"
   ]
  },
  {
   "cell_type": "code",
   "execution_count": 6,
   "id": "d76290c6",
   "metadata": {},
   "outputs": [
    {
     "name": "stdout",
     "output_type": "stream",
     "text": [
      "  1   2   3   4 \n",
      " 12  13  14   5 \n",
      " 11  16  15   6 \n",
      " 10   9   8   7 \n"
     ]
    }
   ],
   "source": [
    "n = 4\n",
    "matrix = [[0] * n for _ in range(n)]\n",
    "\n",
    "top, bottom, left, right = 0, n - 1, 0, n - 1\n",
    "num = 1\n",
    "\n",
    "while top <= bottom and left <= right:\n",
    "    for i in range(left, right + 1):\n",
    "        matrix[top][i] = num\n",
    "        num += 1\n",
    "    top += 1\n",
    "\n",
    "    for i in range(top, bottom + 1):\n",
    "        matrix[i][right] = num\n",
    "        num += 1\n",
    "    right -= 1\n",
    "\n",
    "    for i in range(right, left - 1, -1):\n",
    "        matrix[bottom][i] = num\n",
    "        num += 1\n",
    "    bottom -= 1\n",
    "\n",
    "    for i in range(bottom, top - 1, -1):\n",
    "        matrix[i][left] = num\n",
    "        num += 1\n",
    "    left += 1\n",
    "\n",
    "for row in matrix:\n",
    "    for num in row:\n",
    "        print(f\"{num:3d}\", end=\" \")\n",
    "    print()\n"
   ]
  },
  {
   "cell_type": "markdown",
   "id": "8f8765e1",
   "metadata": {},
   "source": [
    "### 25.\tWrite a program using nested for loops to print a triangle of prime numbers\n",
    "   2\n",
    "  357\n",
    " 111317\n"
   ]
  },
  {
   "cell_type": "code",
   "execution_count": 11,
   "id": "1c430ecd",
   "metadata": {},
   "outputs": [
    {
     "name": "stdout",
     "output_type": "stream",
     "text": [
      "    2\n",
      "   357\n",
      "  1113171923\n",
      " 29313741434753\n",
      "596167717379838997\n"
     ]
    }
   ],
   "source": [
    "def is_prime(num):\n",
    "    if num < 2:\n",
    "        return False\n",
    "    for i in range(2, int(num**0.5) + 1):\n",
    "        if num % i == 0:\n",
    "            return False\n",
    "    return True\n",
    "\n",
    "rows = 5  \n",
    "current_num = 2  \n",
    "\n",
    "for i in range(rows):\n",
    "    for j in range(rows - i - 1):\n",
    "        print(\" \", end=\"\")\n",
    "\n",
    "    for j in range(2 * i + 1):\n",
    "        while not is_prime(current_num):\n",
    "            current_num += 1\n",
    "        print(current_num, end=\"\")\n",
    "        current_num += 1\n",
    "\n",
    "    print()\n"
   ]
  },
  {
   "cell_type": "markdown",
   "id": "488b9ef3",
   "metadata": {},
   "source": [
    "### 26.\tImplement a program using nested for loops to print a diamond pattern\n",
    "     1\n",
    "   212\n",
    "  32123\n",
    " 4321234\n",
    "  32123\n",
    "   212\n",
    "    1\n"
   ]
  },
  {
   "cell_type": "code",
   "execution_count": 13,
   "id": "6e79d2d7",
   "metadata": {},
   "outputs": [
    {
     "name": "stdout",
     "output_type": "stream",
     "text": [
      "    1\n",
      "   212\n",
      "  32123\n",
      " 4321234\n",
      "543212345\n",
      " 4321234\n",
      "  32123\n",
      "   212\n",
      "    1\n"
     ]
    }
   ],
   "source": [
    "rows = 5\n",
    "for i in range(1, rows + 1):\n",
    "    print(\" \" * (rows - i) + ''.join(str(j) for j in range(i, 0, -1)) + ''.join(str(j) for j in range(2, i + 1)))\n",
    "\n",
    "for i in range(rows - 1, 0, -1):\n",
    "    print(\" \" * (rows - i) + ''.join(str(j) for j in range(i, 0, -1)) + ''.join(str(j) for j in range(2, i + 1)))\n"
   ]
  },
  {
   "cell_type": "markdown",
   "id": "7583db8c",
   "metadata": {},
   "source": [
    "### 27.\tCalendar Generator:\n",
    "Build a program that generates a monthly calendar for a specified year and month. Use loops to iterate through the days of the week and the days of the month. Allow the user to input the year and month."
   ]
  },
  {
   "cell_type": "code",
   "execution_count": 16,
   "id": "a74e4755",
   "metadata": {},
   "outputs": [
    {
     "name": "stdout",
     "output_type": "stream",
     "text": [
      "    January 2024\n",
      "Mo Tu We Th Fr Sa Su\n",
      " 1  2  3  4  5  6  7\n",
      " 8  9 10 11 12 13 14\n",
      "15 16 17 18 19 20 21\n",
      "22 23 24 25 26 27 28\n",
      "29 30 31\n",
      "\n"
     ]
    }
   ],
   "source": [
    "import calendar\n",
    "\n",
    "y = 2024\n",
    "m = 1\n",
    "\n",
    "print(calendar.month(y, m))"
   ]
  },
  {
   "cell_type": "code",
   "execution_count": 10,
   "id": "3d6271f5",
   "metadata": {},
   "outputs": [
    {
     "name": "stdout",
     "output_type": "stream",
     "text": [
      "Enter the year: 1231412\n",
      "Enter the month (1-12): 2\n",
      "Sunday Monday Tuesday Wednesday Thursday Friday Saturday\n",
      "--------------------------------------------------------\n",
      "                                                1       \n",
      "2       3       4       5       6       7       8       \n",
      "9       10      11      12      13      14      15      \n",
      "16      17      18      19      20      21      22      \n",
      "23      24      25      26      27      28      29      \n"
     ]
    }
   ],
   "source": [
    "def is_leap(year):\n",
    "    return year % 4 == 0 and (year % 100 != 0 or year % 400 == 0)\n",
    "\n",
    "def get_month_days(month, year):\n",
    "    if month in [4, 6, 9, 11]:\n",
    "        return 30\n",
    "    elif month == 2:\n",
    "        return 29 if is_leap(year) else 28\n",
    "    else:\n",
    "        return 31\n",
    "\n",
    "def get_week_day(month, year):\n",
    "    t = [0, 3, 2, 5, 0, 3, 5, 1, 4, 6, 2, 4]\n",
    "    year -= month < 3\n",
    "    return (year + year//4 - year//100 + year//400 + t[month-1] + 1) % 7\n",
    "\n",
    "def print_calendar():\n",
    "    year = int(input(\"Enter the year: \"))\n",
    "    month = int(input(\"Enter the month (1-12): \"))\n",
    "\n",
    "    days = [\"Sunday\", \"Monday\", \"Tuesday\", \"Wednesday\", \"Thursday\", \"Friday\", \"Saturday\"]\n",
    "    print(\" \".join(days))\n",
    "    print(\"--------\" * 7)\n",
    "\n",
    "    month_days = get_month_days(month, year)\n",
    "    start_day = get_week_day(month, year)\n",
    "\n",
    "    for i in range(start_day):\n",
    "        print(\"        \", end=\"\")\n",
    "\n",
    "    for i in range(1, month_days + 1):\n",
    "        print(f\"{i:<8}\", end=\"\")\n",
    "        if (i + start_day) % 7 == 0:\n",
    "            print()\n",
    "\n",
    "print_calendar()\n"
   ]
  },
  {
   "cell_type": "markdown",
   "id": "56cc4810",
   "metadata": {},
   "source": [
    "### 28.\tSimple Inventory System:\n",
    "Build a basic inventory management system where users can add, remove, and view items in their inventory. Utilize loops to handle user interactions and keep the program running until the user decides to exit.\n"
   ]
  },
  {
   "cell_type": "code",
   "execution_count": 1,
   "id": "0cd06200",
   "metadata": {},
   "outputs": [
    {
     "name": "stdout",
     "output_type": "stream",
     "text": [
      "\n",
      "Inventory Management System\n",
      "1. Display Inventory\n",
      "2. Add Item\n",
      "3. Remove Item\n",
      "4. Exit\n",
      "Enter your choice (1-4): 1\n",
      "\n",
      "Inventory:\n",
      "\n",
      "Inventory Management System\n",
      "1. Display Inventory\n",
      "2. Add Item\n",
      "3. Remove Item\n",
      "4. Exit\n",
      "Enter your choice (1-4): 2\n",
      "Enter the item name: TV\n",
      "Enter the quantity: 10\n",
      "10 TV(s) added to the inventory.\n",
      "\n",
      "Inventory Management System\n",
      "1. Display Inventory\n",
      "2. Add Item\n",
      "3. Remove Item\n",
      "4. Exit\n",
      "Enter your choice (1-4): 2\n",
      "Enter the item name: AC\n",
      "Enter the quantity: 5\n",
      "5 AC(s) added to the inventory.\n",
      "\n",
      "Inventory Management System\n",
      "1. Display Inventory\n",
      "2. Add Item\n",
      "3. Remove Item\n",
      "4. Exit\n",
      "Enter your choice (1-4): 2\n",
      "Enter the item name: Washing Machine\n",
      "Enter the quantity: 7\n",
      "7 Washing Machine(s) added to the inventory.\n",
      "\n",
      "Inventory Management System\n",
      "1. Display Inventory\n",
      "2. Add Item\n",
      "3. Remove Item\n",
      "4. Exit\n",
      "Enter your choice (1-4): 1\n",
      "\n",
      "Inventory:\n",
      "TV: 10\n",
      "AC: 5\n",
      "Washing Machine: 7\n",
      "\n",
      "Inventory Management System\n",
      "1. Display Inventory\n",
      "2. Add Item\n",
      "3. Remove Item\n",
      "4. Exit\n",
      "Enter your choice (1-4): 3\n",
      "Enter the item name to remove: Washing Machine\n",
      "How many Washing Machine(s) to remove? 3\n",
      "3 Washing Machine(s) removed from the inventory.\n",
      "\n",
      "Inventory Management System\n",
      "1. Display Inventory\n",
      "2. Add Item\n",
      "3. Remove Item\n",
      "4. Exit\n",
      "Enter your choice (1-4): 1\n",
      "\n",
      "Inventory:\n",
      "TV: 10\n",
      "AC: 5\n",
      "Washing Machine: 4\n",
      "\n",
      "Inventory Management System\n",
      "1. Display Inventory\n",
      "2. Add Item\n",
      "3. Remove Item\n",
      "4. Exit\n",
      "Enter your choice (1-4): 4\n",
      "Exiting the program. Goodbye!\n"
     ]
    }
   ],
   "source": [
    "inventory = {}\n",
    "\n",
    "while True:\n",
    "    print(\"\\nInventory Management System\")\n",
    "    print(\"1. Display Inventory\")\n",
    "    print(\"2. Add Item\")\n",
    "    print(\"3. Remove Item\")\n",
    "    print(\"4. Exit\")\n",
    "\n",
    "    choice = input(\"Enter your choice (1-4): \")\n",
    "\n",
    "    if choice == '1':\n",
    "        print(\"\\n------> Inventory:\")\n",
    "        for item, quantity in inventory.items():\n",
    "            print(f\"{item}: {quantity}\")\n",
    "    elif choice == '2':\n",
    "        item = input(\"Enter the item name: \")\n",
    "        quantity = int(input(\"Enter the quantity: \"))\n",
    "        if item in inventory:\n",
    "            inventory[item] += quantity\n",
    "        else:\n",
    "            inventory[item] = quantity\n",
    "        print(f\"{quantity} {item}(s) added to the inventory.\")\n",
    "    elif choice == '3':\n",
    "        item = input(\"Enter the item name to remove: \")\n",
    "        if item in inventory:\n",
    "            quantity = int(input(f\"How many {item}(s) to remove? \"))\n",
    "            if quantity >= inventory[item]:\n",
    "                del inventory[item]\n",
    "            else:\n",
    "                inventory[item] -= quantity\n",
    "            print(f\"{quantity} {item}(s) removed from the inventory.\")\n",
    "        else:\n",
    "            print(f\"{item} not found in the inventory.\")\n",
    "    elif choice == '4':\n",
    "        print(\"Exiting the program. Goodbye!\")\n",
    "        break\n",
    "    else:\n",
    "        print(\"Invalid choice. Please enter a number between 1 and 4.\")\n"
   ]
  },
  {
   "cell_type": "markdown",
   "id": "a63cd37e",
   "metadata": {},
   "source": [
    "### 29.\tTo-Do List Manager:\n",
    "Implement a simple to-do list manager where users can add, remove, and mark tasks as completed. Utilize loops to repeatedly present the menu and handle user interactions until they choose to exit."
   ]
  },
  {
   "cell_type": "code",
   "execution_count": 2,
   "id": "ef828182",
   "metadata": {},
   "outputs": [
    {
     "name": "stdout",
     "output_type": "stream",
     "text": [
      "\n",
      "To-Do List Manager\n",
      "1. Add Task\n",
      "2. Remove Task\n",
      "3. Mark Task as Completed\n",
      "4. Display Tasks\n",
      "5. Exit\n",
      "Enter your choice (1-5): 1\n",
      "Enter the task: Development\n",
      "Task 'Development' added to the to-do list.\n",
      "\n",
      "To-Do List Manager\n",
      "1. Add Task\n",
      "2. Remove Task\n",
      "3. Mark Task as Completed\n",
      "4. Display Tasks\n",
      "5. Exit\n",
      "Enter your choice (1-5): 4\n",
      "\n",
      "Tasks:\n",
      "1. Development \n",
      "\n",
      "To-Do List Manager\n",
      "1. Add Task\n",
      "2. Remove Task\n",
      "3. Mark Task as Completed\n",
      "4. Display Tasks\n",
      "5. Exit\n",
      "Enter your choice (1-5): 1\n",
      "Enter the task: Deployment\n",
      "Task 'Deployment' added to the to-do list.\n",
      "\n",
      "To-Do List Manager\n",
      "1. Add Task\n",
      "2. Remove Task\n",
      "3. Mark Task as Completed\n",
      "4. Display Tasks\n",
      "5. Exit\n",
      "Enter your choice (1-5): 1\n",
      "Enter the task: Testing\n",
      "Task 'Testing' added to the to-do list.\n",
      "\n",
      "To-Do List Manager\n",
      "1. Add Task\n",
      "2. Remove Task\n",
      "3. Mark Task as Completed\n",
      "4. Display Tasks\n",
      "5. Exit\n",
      "Enter your choice (1-5): 1\n",
      "Enter the task: Debugging\n",
      "Task 'Debugging' added to the to-do list.\n",
      "\n",
      "To-Do List Manager\n",
      "1. Add Task\n",
      "2. Remove Task\n",
      "3. Mark Task as Completed\n",
      "4. Display Tasks\n",
      "5. Exit\n",
      "Enter your choice (1-5): 4\n",
      "\n",
      "Tasks:\n",
      "1. Development \n",
      "2. Deployment \n",
      "3. Testing \n",
      "4. Debugging \n",
      "\n",
      "To-Do List Manager\n",
      "1. Add Task\n",
      "2. Remove Task\n",
      "3. Mark Task as Completed\n",
      "4. Display Tasks\n",
      "5. Exit\n",
      "Enter your choice (1-5): 3\n",
      "\n",
      "Tasks:\n",
      "1. Development \n",
      "2. Deployment \n",
      "3. Testing \n",
      "4. Debugging \n",
      "Enter the task number to mark as completed: 3\n",
      "Task 'Testing' marked as completed.\n",
      "\n",
      "To-Do List Manager\n",
      "1. Add Task\n",
      "2. Remove Task\n",
      "3. Mark Task as Completed\n",
      "4. Display Tasks\n",
      "5. Exit\n",
      "Enter your choice (1-5): 4\n",
      "\n",
      "Tasks:\n",
      "1. Development \n",
      "2. Deployment \n",
      "3. Testing (Completed)\n",
      "4. Debugging \n",
      "\n",
      "To-Do List Manager\n",
      "1. Add Task\n",
      "2. Remove Task\n",
      "3. Mark Task as Completed\n",
      "4. Display Tasks\n",
      "5. Exit\n",
      "Enter your choice (1-5): 2\n",
      "\n",
      "Tasks:\n",
      "1. Development \n",
      "2. Deployment \n",
      "3. Testing (Completed)\n",
      "4. Debugging \n",
      "Enter the task number to remove: 4\n",
      "Task 'Debugging' removed from the to-do list.\n",
      "\n",
      "To-Do List Manager\n",
      "1. Add Task\n",
      "2. Remove Task\n",
      "3. Mark Task as Completed\n",
      "4. Display Tasks\n",
      "5. Exit\n",
      "Enter your choice (1-5): 4\n",
      "\n",
      "Tasks:\n",
      "1. Development \n",
      "2. Deployment \n",
      "3. Testing (Completed)\n",
      "\n",
      "To-Do List Manager\n",
      "1. Add Task\n",
      "2. Remove Task\n",
      "3. Mark Task as Completed\n",
      "4. Display Tasks\n",
      "5. Exit\n",
      "Enter your choice (1-5): 5\n",
      "Exiting the to-do list manager. Goodbye!\n"
     ]
    }
   ],
   "source": [
    "tasks = []\n",
    "\n",
    "while True:\n",
    "    print(\"\\nTo-Do List Manager\")\n",
    "    print(\"1. Add Task\")\n",
    "    print(\"2. Remove Task\")\n",
    "    print(\"3. Mark Task as Completed\")\n",
    "    print(\"4. Display Tasks\")\n",
    "    print(\"5. Exit\")\n",
    "\n",
    "    choice = input(\"Enter your choice (1-5): \")\n",
    "\n",
    "    if choice == '1':\n",
    "        task = input(\"Enter the task: \")\n",
    "        tasks.append({\"task\": task, \"completed\": False})\n",
    "        print(f\"Task '{task}' added to the to-do list.\")\n",
    "    elif choice == '2':\n",
    "        if not tasks:\n",
    "            print(\"No tasks to remove.\")\n",
    "        else:\n",
    "            print(\"\\nTasks:\")\n",
    "            for i, task in enumerate(tasks, 1):\n",
    "                print(f\"{i}. {task['task']} {'(Completed)' if task['completed'] else ''}\")\n",
    "            index = int(input(\"Enter the task number to remove: \")) - 1\n",
    "            if 0 <= index < len(tasks):\n",
    "                removed_task = tasks.pop(index)\n",
    "                print(f\"Task '{removed_task['task']}' removed from the to-do list.\")\n",
    "            else:\n",
    "                print(\"Invalid task number.\")\n",
    "    elif choice == '3':\n",
    "        if not tasks:\n",
    "            print(\"No tasks to mark as completed.\")\n",
    "        else:\n",
    "            print(\"\\nTasks:\")\n",
    "            for i, task in enumerate(tasks, 1):\n",
    "                print(f\"{i}. {task['task']} {'(Completed)' if task['completed'] else ''}\")\n",
    "            index = int(input(\"Enter the task number to mark as completed: \")) - 1\n",
    "            if 0 <= index < len(tasks):\n",
    "                tasks[index]['completed'] = True\n",
    "                print(f\"Task '{tasks[index]['task']}' marked as completed.\")\n",
    "            else:\n",
    "                print(\"Invalid task number.\")\n",
    "    elif choice == '4':\n",
    "        print(\"\\nTasks:\")\n",
    "        for i, task in enumerate(tasks, 1):\n",
    "            print(f\"{i}. {task['task']} {'(Completed)' if task['completed'] else ''}\")\n",
    "    elif choice == '5':\n",
    "        print(\"Exiting the to-do list manager. Goodbye!\")\n",
    "        break\n",
    "    else:\n",
    "        print(\"Invalid choice. Please enter a number between 1 and 5.\")\n"
   ]
  },
  {
   "cell_type": "markdown",
   "id": "0d984d64",
   "metadata": {},
   "source": [
    "### 30.\tPattern Recognition in Text:\n",
    "Develop a program that takes a text input and identifies patterns such as repeated words, palindromes, or specific sequences. Use loops to analyze the text and provide relevant information."
   ]
  },
  {
   "cell_type": "code",
   "execution_count": 2,
   "id": "f5ce09e3",
   "metadata": {},
   "outputs": [
    {
     "name": "stdout",
     "output_type": "stream",
     "text": [
      "Enter text: aksh asfkafnnasnalnaksh hskasdwqwd\n",
      "\n",
      "Results:\n",
      "Repeated Words: set()\n",
      "Palindromes: []\n",
      "No occurrences of the specified sequence.\n"
     ]
    }
   ],
   "source": [
    "text_input = input(\"Enter text: \")\n",
    "words = text_input.split()\n",
    "\n",
    "repeated_words = set()\n",
    "seen_words = set()\n",
    "for word in words:\n",
    "    if word in seen_words:\n",
    "        repeated_words.add(word)\n",
    "    seen_words.add(word)\n",
    "\n",
    "palindromes = [word for word in words if word == word[::-1]]\n",
    "\n",
    "target_sequence = 'aksh'\n",
    "specific_sequences = [words[i:i + len(target_sequence)] for i in range(len(words) - len(target_sequence) + 1) if words[i:i + len(target_sequence)] == list(target_sequence)]\n",
    "\n",
    "print(\"\\nResults:\")\n",
    "print(\"Repeated Words:\", repeated_words)\n",
    "print(\"Palindromes:\", palindromes)\n",
    "\n",
    "\n",
    "if specific_sequences:\n",
    "    print(f\"Occurrences of '{' '.join(specific_sequences[0])}' sequence:\", len(specific_sequences))\n",
    "else:\n",
    "    print(\"No occurrences of the specified sequence.\")\n"
   ]
  },
  {
   "cell_type": "markdown",
   "id": "42a415e6",
   "metadata": {},
   "source": [
    "### You are given a list of dictionaries, where each dictionary represents a student's information. The structure of each dictionary is as follows:\n",
    "student_info = {\n",
    "    'name': 'ABC',\n",
    "    'age': 20,\n",
    "    'grades': {'math': 90, 'science': 85, 'history': 92},\n",
    "    'clubs': ['Chess Club', 'Coding Club']\n",
    "}\n",
    "write a Python program with the following functionalities:\n",
    " \n",
    "Average Grade Calculation:\n",
    " \n",
    "Calculate the average grade for each student based on the 'grades' key in their dictionary.\n",
    "Create a new list of dictionaries with the student's name and their average grade.\n",
    "Club Membership:\n",
    " \n",
    "Identify and list all unique club names from the 'clubs' key across all students.\n",
    "Create a set containing the names of students who are members of the 'Coding Club.'\n",
    "Age Grouping:\n",
    " \n",
    "Group students into different age groups (e.g., 18-20, 21-23, etc.).\n",
    "Create a dictionary where keys are age groups, and values are lists of student names belonging to that age group.\n"
   ]
  },
  {
   "cell_type": "code",
   "execution_count": 6,
   "id": "5dff18f6",
   "metadata": {
    "scrolled": true
   },
   "outputs": [
    {
     "name": "stdout",
     "output_type": "stream",
     "text": [
      "Average Grades:\n",
      "Akshay: 89.00\n",
      "Rohan: 87.67\n",
      "Suyash: 94.00\n",
      "Akash: 55.00\n",
      "\n",
      "Club Membership:\n",
      "All Clubs: {'Coding Club', 'Chess Club', 'Cricket Club', 'Photography Club'}\n",
      "Coding Club Members: {'Akshay', 'Rohan'}\n",
      "Cricket club members : {'Akash', 'Suyash'}\n",
      "Photography Club Members : {'Rohan', 'Suyash'}\n",
      "Chess Club Members : {'Akshay', 'Akash'}\n",
      "\n",
      "Age Grouping:\n",
      "19 - 21 years: Akshay\n",
      "25 - 27 years: Rohan\n",
      "31 - 33 years: Suyash\n",
      "28 - 30 years: Akash\n"
     ]
    }
   ],
   "source": [
    "students_info = [\n",
    "    {\n",
    "        'name': 'Akshay',\n",
    "        'age': 20,\n",
    "        'grades': {'math': 90, 'science': 85, 'history': 92},\n",
    "        'clubs': ['Chess Club', 'Coding Club']\n",
    "    },\n",
    "    {\n",
    "        'name': 'Rohan',\n",
    "        'age': 25,\n",
    "        'grades': {'math': 85, 'science': 88, 'history': 90},\n",
    "        'clubs': ['Coding Club', 'Photography Club']\n",
    "    },\n",
    "    {\n",
    "        'name': 'Suyash',\n",
    "        'age': 30,\n",
    "        'grades': {'math': 99, 'science': 90, 'history': 93},\n",
    "        'clubs': ['Cricket Club', 'Photography Club']\n",
    "    },\n",
    "    {\n",
    "        'name': 'Akash',\n",
    "        'age': 28,\n",
    "        'grades': {'math': 50, 'science': 60, 'history': 55},\n",
    "        'clubs': ['Cricket Club', 'Chess Club']\n",
    "    }\n",
    "    ]\n",
    "\n",
    "average_grades = [{'name': student['name'], 'average_grade': sum(student['grades'].values()) / len(student['grades'])} for student in students_info]\n",
    "\n",
    "all_clubs = {club for student in students_info for club in student['clubs']}\n",
    "coding_club_members = {student['name'] for student in students_info if 'Coding Club' in student['clubs']}\n",
    "cricket_club_members = {student['name'] for student in students_info if 'Cricket Club' in student['clubs']}\n",
    "photography_club_members = {student['name'] for student in students_info if 'Photography Club' in student['clubs']}\n",
    "chess_club_members = {student['name'] for student in students_info if 'Chess Club' in student['clubs']}\n",
    "\n",
    "age_groups = {}\n",
    "for student in students_info:\n",
    "    age_group = f\"{(student['age'] // 3) * 3 + 1} - {(student['age'] // 3) * 3 + 3}\"\n",
    "    if age_group not in age_groups:\n",
    "        age_groups[age_group] = []\n",
    "    age_groups[age_group].append(student['name'])\n",
    "\n",
    "print(\"Average Grades:\")\n",
    "for student in average_grades:\n",
    "    print(f\"{student['name']}: {student['average_grade']:.2f}\")\n",
    "\n",
    "print(\"\\nClub Membership:\")\n",
    "print(\"All Clubs:\", all_clubs)\n",
    "print(\"Coding Club Members:\", coding_club_members)\n",
    "print(\"Cricket club members :\",cricket_club_members)\n",
    "print(\"Photography Club Members :\",photography_club_members)\n",
    "print(\"Chess Club Members :\",chess_club_members)\n",
    "print(\"\\nAge Grouping:\")\n",
    "for age_group, students in age_groups.items():\n",
    "    print(f\"{age_group} years: {', '.join(students)}\")"
   ]
  },
  {
   "cell_type": "code",
   "execution_count": null,
   "id": "c3b62bcb",
   "metadata": {},
   "outputs": [],
   "source": []
  }
 ],
 "metadata": {
  "kernelspec": {
   "display_name": "Python 3 (ipykernel)",
   "language": "python",
   "name": "python3"
  },
  "language_info": {
   "codemirror_mode": {
    "name": "ipython",
    "version": 3
   },
   "file_extension": ".py",
   "mimetype": "text/x-python",
   "name": "python",
   "nbconvert_exporter": "python",
   "pygments_lexer": "ipython3",
   "version": "3.9.7"
  },
  "varInspector": {
   "cols": {
    "lenName": 16,
    "lenType": 16,
    "lenVar": 40
   },
   "kernels_config": {
    "python": {
     "delete_cmd_postfix": "",
     "delete_cmd_prefix": "del ",
     "library": "var_list.py",
     "varRefreshCmd": "print(var_dic_list())"
    },
    "r": {
     "delete_cmd_postfix": ") ",
     "delete_cmd_prefix": "rm(",
     "library": "var_list.r",
     "varRefreshCmd": "cat(var_dic_list()) "
    }
   },
   "types_to_exclude": [
    "module",
    "function",
    "builtin_function_or_method",
    "instance",
    "_Feature"
   ],
   "window_display": false
  }
 },
 "nbformat": 4,
 "nbformat_minor": 5
}
