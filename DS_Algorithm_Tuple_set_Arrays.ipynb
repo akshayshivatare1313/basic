{
 "cells": [
  {
   "cell_type": "markdown",
   "id": "c7545aa9",
   "metadata": {},
   "source": [
    "### <span style='color: red; font-family: Arial; font-si2e: 6em;'>DS Algorithm Tasks(Tuple,Set,Arrays)</span>"
   ]
  },
  {
   "cell_type": "markdown",
   "id": "65b0b777",
   "metadata": {},
   "source": [
    "### Create a Tuple"
   ]
  },
  {
   "cell_type": "code",
   "execution_count": 6,
   "id": "9b16ab5f",
   "metadata": {},
   "outputs": [
    {
     "name": "stdout",
     "output_type": "stream",
     "text": [
      "(1, 2, 3)\n"
     ]
    }
   ],
   "source": [
    "my_tuple = (1, 2, 3)\n",
    "print(my_tuple)"
   ]
  },
  {
   "cell_type": "markdown",
   "id": "decddb2a",
   "metadata": {},
   "source": [
    "### create a tuple with different data types\n"
   ]
  },
  {
   "cell_type": "code",
   "execution_count": 7,
   "id": "12f79926",
   "metadata": {},
   "outputs": [
    {
     "name": "stdout",
     "output_type": "stream",
     "text": [
      "(1, 'Hello', 3.14, True)\n"
     ]
    }
   ],
   "source": [
    "mixed_tuple = (1, 'Hello', 3.14, True)\n",
    "print(mixed_tuple)"
   ]
  },
  {
   "cell_type": "markdown",
   "id": "000db2d1",
   "metadata": {},
   "source": [
    "### create a tuple with numbers and print one item\n"
   ]
  },
  {
   "cell_type": "code",
   "execution_count": 8,
   "id": "0ea17f33",
   "metadata": {},
   "outputs": [
    {
     "name": "stdout",
     "output_type": "stream",
     "text": [
      "30\n"
     ]
    }
   ],
   "source": [
    "numbers_tuple = (10, 20, 30, 40, 50)\n",
    "print(numbers_tuple[2])"
   ]
  },
  {
   "cell_type": "markdown",
   "id": "437e7665",
   "metadata": {},
   "source": [
    "### unpack a tuple in several variables\n"
   ]
  },
  {
   "cell_type": "code",
   "execution_count": 9,
   "id": "117f1e9a",
   "metadata": {},
   "outputs": [
    {
     "name": "stdout",
     "output_type": "stream",
     "text": [
      "Number: 10\n",
      "Greeting: Hello\n",
      "Pi: 3.14\n"
     ]
    }
   ],
   "source": [
    "my_tuple = (10, 'Hello', 3.14)\n",
    "                                    \n",
    "number, greeting, pi = my_tuple    # Unpacking in Tuple is imporant Akshay rememmber this\n",
    "\n",
    "print(\"Number:\", number)\n",
    "print(\"Greeting:\", greeting)\n",
    "print(\"Pi:\", pi)\n"
   ]
  },
  {
   "cell_type": "markdown",
   "id": "6bb53c45",
   "metadata": {},
   "source": [
    "### add an item in a tuple.\n"
   ]
  },
  {
   "cell_type": "code",
   "execution_count": 13,
   "id": "c4a56f2a",
   "metadata": {},
   "outputs": [
    {
     "name": "stdout",
     "output_type": "stream",
     "text": [
      "Original Tuple: (1, 2, 3, 4)\n",
      "New Tuple: (1, 2, 3, 4, 5)\n"
     ]
    }
   ],
   "source": [
    "original_tuple = (1, 2, 3, 4)\n",
    "\n",
    "new_tuple = original_tuple + (5,) # after 5 comma is to validate its tuple otherwise it will not consider as tuple\n",
    "\n",
    "print(\"Original Tuple:\", original_tuple)\n",
    "print(\"New Tuple:\", new_tuple)\n"
   ]
  },
  {
   "cell_type": "markdown",
   "id": "d2557d73",
   "metadata": {},
   "source": [
    "### convert a tuple to a string\n"
   ]
  },
  {
   "cell_type": "code",
   "execution_count": 3,
   "id": "a68e54fa",
   "metadata": {},
   "outputs": [
    {
     "name": "stdout",
     "output_type": "stream",
     "text": [
      "Original tuple is (10, 'Hello', 3.14) and its type is <class 'tuple'>\n",
      "Tuple converted into string is (10, 'Hello', 3.14) and its type is <class 'str'>\n"
     ]
    }
   ],
   "source": [
    "my_tuple = (10, 'Hello', 3.14)\n",
    "\n",
    "str_tuple = str(my_tuple)\n",
    "print(f\"Original tuple is {my_tuple} and its type is {type(my_tuple)}\")\n",
    "print(f\"Tuple converted into string is {str_tuple} and its type is {type(str_tuple)}\")"
   ]
  },
  {
   "cell_type": "markdown",
   "id": "7f33c47e",
   "metadata": {},
   "source": [
    "### get the 4th element and 4th element from last of a tuple\n"
   ]
  },
  {
   "cell_type": "code",
   "execution_count": 8,
   "id": "3ddb0196",
   "metadata": {},
   "outputs": [
    {
     "name": "stdout",
     "output_type": "stream",
     "text": [
      "Fourth element is :[4.4, 'Fourth_one']\n",
      "Fourth element from last is :{'name': 'Akshay'}\n",
      "Sixth element is :4\n"
     ]
    }
   ],
   "source": [
    "my_tuple = (1, 2, 3,[4.4, 'Fourth_one'] , 'hello', 4, 5, 6, {'name':'Akshay'}, 7, 8, 9.9)\n",
    "fourth_element = my_tuple[3]\n",
    "fourth_element_end = my_tuple[-4]\n",
    "print(f\"Fourth element is :{fourth_element}\\nFourth element from last is :{fourth_element_end}\\nSixth element is :{my_tuple[5]}\")"
   ]
  },
  {
   "cell_type": "markdown",
   "id": "5b48a8b3",
   "metadata": {},
   "source": [
    "### create the clone of a tuple\n",
    "\n",
    "\n",
    "\n",
    "\n",
    "\n",
    "\n",
    "\n",
    "\n",
    "\n"
   ]
  },
  {
   "cell_type": "code",
   "execution_count": 9,
   "id": "61a1e346",
   "metadata": {},
   "outputs": [
    {
     "name": "stdout",
     "output_type": "stream",
     "text": [
      "Original tuple :(10, 'Hello', 3.14)\n",
      "Clonned  tuple :(10, 'Hello', 3.14)\n"
     ]
    }
   ],
   "source": [
    "my_tuple = (10, 'Hello', 3.14)\n",
    "cloned_tuple = my_tuple[:]\n",
    "print(f\"Original tuple :{my_tuple}\\nClonned  tuple :{cloned_tuple}\")"
   ]
  },
  {
   "cell_type": "markdown",
   "id": "66b1e831",
   "metadata": {},
   "source": [
    "### find the repeated items of a tuple\n"
   ]
  },
  {
   "cell_type": "code",
   "execution_count": 10,
   "id": "50d8c4aa",
   "metadata": {},
   "outputs": [
    {
     "name": "stdout",
     "output_type": "stream",
     "text": [
      "original tuple :(1, 2, 3, 2, 4, 5, 3, 6, 2)\n",
      "repeated items :{2, 3}\n"
     ]
    }
   ],
   "source": [
    "my_tuple = (1, 2, 3, 2, 4, 5, 3, 6, 2)\n",
    "element_counts = {}\n",
    "repeated_items = set()\n",
    "\n",
    "for item in my_tuple:\n",
    "    if item in element_counts:\n",
    "        repeated_items.add(item)\n",
    "    else:\n",
    "        element_counts[item] = 1\n",
    "\n",
    "print(f\"original tuple :{my_tuple}\\nrepeated items :{repeated_items}\")"
   ]
  },
  {
   "cell_type": "markdown",
   "id": "2f5e6cf0",
   "metadata": {},
   "source": [
    "### check whether an element exists within a tuple\n"
   ]
  },
  {
   "cell_type": "code",
   "execution_count": 41,
   "id": "9f5b4d7d",
   "metadata": {},
   "outputs": [
    {
     "name": "stdout",
     "output_type": "stream",
     "text": [
      "Enter Element to find :2\n",
      "The element '2' exists in tuple\n"
     ]
    }
   ],
   "source": [
    "my_tuple = (1, 2, 'hello', 3, 4.44, 5)\n",
    "\n",
    "element_to_find = input(\"Enter Element to find :\")\n",
    "##############################################################\n",
    "try:\n",
    "    element_to_find = int(element_to_find)\n",
    "except ValueError:\n",
    "    \n",
    "    try:\n",
    "        element_to_find = float(element_to_find)\n",
    "    except ValueError:\n",
    "        pass\n",
    "##################################################################    \n",
    "if element_to_find in my_tuple:\n",
    "    print(f\"The element '{element_to_find}' exists in tuple\")\n",
    "else:\n",
    "    print(f\"The element '{element_to_find}' does not exists in tuple\")"
   ]
  },
  {
   "cell_type": "markdown",
   "id": "d9fab284",
   "metadata": {},
   "source": [
    "### convert a list to a tuple\n"
   ]
  },
  {
   "cell_type": "code",
   "execution_count": 42,
   "id": "d43812ab",
   "metadata": {},
   "outputs": [
    {
     "name": "stdout",
     "output_type": "stream",
     "text": [
      "Original list :[1, 2, 'hello', 3.14, 4, {'hi': 'Akshay'}] of type <class 'list'>\n",
      "list converted into tuple is :(1, 2, 'hello', 3.14, 4, {'hi': 'Akshay'}) of type <class 'tuple'>\n"
     ]
    }
   ],
   "source": [
    "lst = [1, 2, 'hello', 3.14, 4,{'hi':'Akshay'}]\n",
    "lst_tuple = tuple(lst)\n",
    "\n",
    "print(f\"Original list :{lst} of type {type(lst)}\\nlist converted into tuple is :{lst_tuple} of type {type(lst_tuple)}\")"
   ]
  },
  {
   "cell_type": "markdown",
   "id": "0c898fa5",
   "metadata": {},
   "source": [
    "### remove an item from a tuple\n"
   ]
  },
  {
   "cell_type": "code",
   "execution_count": 2,
   "id": "7eb635fb",
   "metadata": {},
   "outputs": [
    {
     "name": "stdout",
     "output_type": "stream",
     "text": [
      "Original tuple :(1, 2, 'hello', 3, 4.44, 5)\n",
      "New tuple after removing item :(1, 2, 3, 4.44, 5)\n"
     ]
    }
   ],
   "source": [
    "my_tuple = (1, 2, 'hello', 3, 4.44, 5)\n",
    "item_to_remove = 'hello'\n",
    "new_tuple = tuple(x for x in my_tuple if x != item_to_remove)\n",
    "print(f\"Original tuple :{my_tuple}\\nNew tuple after removing item :{new_tuple}\")"
   ]
  },
  {
   "cell_type": "markdown",
   "id": "e026ef77",
   "metadata": {},
   "source": [
    "### slice a tuple\n"
   ]
  },
  {
   "cell_type": "code",
   "execution_count": 3,
   "id": "5e1219b4",
   "metadata": {},
   "outputs": [
    {
     "name": "stdout",
     "output_type": "stream",
     "text": [
      "Original tuple :(1, 2, 'hello', 3, 4.44, 5)\n",
      "Sliced tuple :(2, 'hello', 3, 4.44)\n"
     ]
    }
   ],
   "source": [
    "my_tuple = (1, 2, 'hello', 3, 4.44, 5)\n",
    "sliced_tuple = my_tuple[1:5]\n",
    "print(f\"Original tuple :{my_tuple}\\nSliced tuple :{sliced_tuple}\")"
   ]
  },
  {
   "cell_type": "markdown",
   "id": "2f08ef3f",
   "metadata": {},
   "source": [
    "### find the index of an item of a tuple.\n"
   ]
  },
  {
   "cell_type": "code",
   "execution_count": 9,
   "id": "71a5adaf",
   "metadata": {},
   "outputs": [
    {
     "name": "stdout",
     "output_type": "stream",
     "text": [
      "index is :4\n"
     ]
    }
   ],
   "source": [
    "my_tuple = (1, 2, 'hello', 3, 4.44, 5)\n",
    "index = my_tuple.index(4.44)\n",
    "print(f\"index is :{index}\")\n"
   ]
  },
  {
   "cell_type": "markdown",
   "id": "2b4ec99a",
   "metadata": {},
   "source": [
    "### find the length of a tuple\n"
   ]
  },
  {
   "cell_type": "code",
   "execution_count": 10,
   "id": "8109bb99",
   "metadata": {},
   "outputs": [
    {
     "name": "stdout",
     "output_type": "stream",
     "text": [
      "length of tuple :6\n"
     ]
    }
   ],
   "source": [
    "my_tuple = (1, 2, 'hello', 3, 4.44, 5)\n",
    "length = len(my_tuple)\n",
    "print(f\"length of tuple :{length}\")"
   ]
  },
  {
   "cell_type": "markdown",
   "id": "bf45b0ef",
   "metadata": {},
   "source": [
    "### convert a tuple to a dictionary\n"
   ]
  },
  {
   "cell_type": "code",
   "execution_count": 11,
   "id": "134fb75a",
   "metadata": {},
   "outputs": [
    {
     "name": "stdout",
     "output_type": "stream",
     "text": [
      "Original tuple is (('a', 1), ('b', 2), ('c', 3)) with data type <class 'tuple'>\n",
      "tuple converted into dictionary is {'a': 1, 'b': 2, 'c': 3} with data type <class 'dict'>\n"
     ]
    }
   ],
   "source": [
    "my_tuple = (('a', 1), ('b', 2), ('c', 3))\n",
    "my_dict = dict(my_tuple)\n",
    "\n",
    "print(f\"Original tuple is {my_tuple} with data type {type(my_tuple)}\")\n",
    "print(f\"tuple converted into dictionary is {my_dict} with data type {type(my_dict)}\")"
   ]
  },
  {
   "cell_type": "markdown",
   "id": "1c5dc80f",
   "metadata": {},
   "source": [
    "### unzip a list of tuples into individual lists.\n"
   ]
  },
  {
   "cell_type": "code",
   "execution_count": 12,
   "id": "ed63483a",
   "metadata": {},
   "outputs": [
    {
     "name": "stdout",
     "output_type": "stream",
     "text": [
      "list1 is :('a', 'b', 'c')\n",
      "list2 is :(1, 2, 3)\n"
     ]
    }
   ],
   "source": [
    "my_tuple = (('a', 1), ('b', 2), ('c', 3))\n",
    "\n",
    "list1, list2 = zip(*my_tuple)\n",
    "\n",
    "print(f\"list1 is :{list1}\\nlist2 is :{list2}\")\n"
   ]
  },
  {
   "cell_type": "markdown",
   "id": "b48cfb1a",
   "metadata": {},
   "source": [
    "### reverse a tuple.\n"
   ]
  },
  {
   "cell_type": "code",
   "execution_count": 14,
   "id": "0edb14bd",
   "metadata": {},
   "outputs": [
    {
     "name": "stdout",
     "output_type": "stream",
     "text": [
      "Original tuple is :(1, 2, 'hello', 3, 4.44, 5)\n",
      " reversed tuple is :(5, 4.44, 3, 'hello', 2, 1)\n"
     ]
    }
   ],
   "source": [
    "my_tuple = (1, 2, 'hello', 3, 4.44, 5)\n",
    "\n",
    "reversed_tuple = my_tuple[::-1]\n",
    "print(f\"Original tuple is :{my_tuple}\\n reversed tuple is :{reversed_tuple}\")"
   ]
  },
  {
   "cell_type": "markdown",
   "id": "b74bd64c",
   "metadata": {},
   "source": [
    "### convert a list of tuples into a dictionary\n"
   ]
  },
  {
   "cell_type": "code",
   "execution_count": 15,
   "id": "8249ee62",
   "metadata": {},
   "outputs": [
    {
     "name": "stdout",
     "output_type": "stream",
     "text": [
      "Original tuple is (('a', 1), ('b', 2), ('c', 3)) with data type <class 'tuple'>\n",
      "tuple converted into dictionary is {'a': 1, 'b': 2, 'c': 3} with data type <class 'dict'>\n"
     ]
    }
   ],
   "source": [
    "my_tuple = (('a', 1), ('b', 2), ('c', 3))\n",
    "my_dict = dict(my_tuple)\n",
    "\n",
    "print(f\"Original tuple is {my_tuple} with data type {type(my_tuple)}\")\n",
    "print(f\"tuple converted into dictionary is {my_dict} with data type {type(my_dict)}\")"
   ]
  },
  {
   "cell_type": "markdown",
   "id": "28921a83",
   "metadata": {},
   "source": [
    "### print a tuple with string formatting\n"
   ]
  },
  {
   "cell_type": "code",
   "execution_count": 18,
   "id": "ecd47030",
   "metadata": {},
   "outputs": [
    {
     "name": "stdout",
     "output_type": "stream",
     "text": [
      "The tuple is: (apple, banana, cherry)\n"
     ]
    }
   ],
   "source": [
    "\n",
    "my_tuple = ('apple', 'banana', 'cherry')\n",
    "print(\"The tuple is: ({}, {}, {})\".format(*my_tuple))\n"
   ]
  },
  {
   "cell_type": "markdown",
   "id": "f78eaf91",
   "metadata": {},
   "source": [
    "### replace last value of tuples in a list\n"
   ]
  },
  {
   "cell_type": "code",
   "execution_count": 3,
   "id": "5507cfcf",
   "metadata": {},
   "outputs": [
    {
     "name": "stdout",
     "output_type": "stream",
     "text": [
      "new tuple is [('a', 1), ('b', 2), ('c', 13)]\n"
     ]
    }
   ],
   "source": [
    "my_tuple = (('a', 1), ('b', 2), ('c', 3))\n",
    "new_value = 13\n",
    "new_tuple = [t if t[0] != my_tuple[-1][0] else (t[0], new_value) for t in my_tuple]\n",
    "print(f\"new tuple is {new_tuple}\")"
   ]
  },
  {
   "cell_type": "code",
   "execution_count": null,
   "id": "54d56a35",
   "metadata": {},
   "outputs": [],
   "source": []
  }
 ],
 "metadata": {
  "kernelspec": {
   "display_name": "Python 3 (ipykernel)",
   "language": "python",
   "name": "python3"
  },
  "language_info": {
   "codemirror_mode": {
    "name": "ipython",
    "version": 3
   },
   "file_extension": ".py",
   "mimetype": "text/x-python",
   "name": "python",
   "nbconvert_exporter": "python",
   "pygments_lexer": "ipython3",
   "version": "3.9.7"
  },
  "varInspector": {
   "cols": {
    "lenName": 16,
    "lenType": 16,
    "lenVar": 40
   },
   "kernels_config": {
    "python": {
     "delete_cmd_postfix": "",
     "delete_cmd_prefix": "del ",
     "library": "var_list.py",
     "varRefreshCmd": "print(var_dic_list())"
    },
    "r": {
     "delete_cmd_postfix": ") ",
     "delete_cmd_prefix": "rm(",
     "library": "var_list.r",
     "varRefreshCmd": "cat(var_dic_list()) "
    }
   },
   "types_to_exclude": [
    "module",
    "function",
    "builtin_function_or_method",
    "instance",
    "_Feature"
   ],
   "window_display": false
  }
 },
 "nbformat": 4,
 "nbformat_minor": 5
}
