{
 "cells": [
  {
   "cell_type": "markdown",
   "id": "5204c315-436b-4e0d-902f-25ec32ac45a2",
   "metadata": {
    "jp-MarkdownHeadingCollapsed": true
   },
   "source": [
    "### <span style='color: red; font-family: Arial; font-si2e: 4em;'>DS Algorithm Tasks (Dictionary-Python)</span>\n",
    "\n"
   ]
  },
  {
   "cell_type": "markdown",
   "id": "af9d7d3b-f0c3-47b9-8aa2-d7d6292c7a99",
   "metadata": {},
   "source": [
    "### Prints each item and its corresponding type from the following list."
   ]
  },
  {
   "cell_type": "code",
   "execution_count": 1,
   "id": "01aad9c6-ac5b-4eb9-850f-cab1b39a5cb6",
   "metadata": {},
   "outputs": [
    {
     "name": "stdout",
     "output_type": "stream",
     "text": [
      "1\n",
      "hello\n",
      "3.456\n",
      "{'akshay': 'pune'}\n"
     ]
    }
   ],
   "source": [
    "my_list = [1, 'hello', 3.456, {'akshay': 'pune'}]\n",
    "\n",
    "for item in my_list:\n",
    "    print(item)"
   ]
  },
  {
   "cell_type": "markdown",
   "id": "81743971-5780-4bff-b13c-11d4facf2c65",
   "metadata": {},
   "source": [
    "### To sort (ascending and descending) a dictionary by value"
   ]
  },
  {
   "cell_type": "code",
   "execution_count": 2,
   "id": "e4dad16c-f9ac-4559-92ff-af5d41a4ecb8",
   "metadata": {},
   "outputs": [
    {
     "name": "stdout",
     "output_type": "stream",
     "text": [
      "[('banana', 2), ('apple', 5), ('orange', 8)]\n",
      "[('orange', 8), ('apple', 5), ('banana', 2)]\n"
     ]
    }
   ],
   "source": [
    "my_dict = {'apple': 5, 'banana': 2, 'orange': 8}\n",
    "sorted_dict = sorted(my_dict.items(),key=lambda item : item[1])\n",
    "sorted_dict_desc = sorted(my_dict.items(),key=lambda item : item[1], reverse=True)\n",
    "print(sorted_dict)\n",
    "print(sorted_dict_desc)"
   ]
  },
  {
   "cell_type": "markdown",
   "id": "c72a1253-1620-4ec3-93f0-edb75b9fd40a",
   "metadata": {},
   "source": [
    "### Add a key to a dictionary"
   ]
  },
  {
   "cell_type": "code",
   "execution_count": 3,
   "id": "2e73f03e-1d51-4861-b81c-26b5b238f458",
   "metadata": {},
   "outputs": [
    {
     "name": "stdout",
     "output_type": "stream",
     "text": [
      "{'name': 'Akshay', 'id': 13, 'address': 'pune', 'salary': 130000}\n"
     ]
    }
   ],
   "source": [
    "my_dict = {'name':'Akshay','id': 13, 'address':'pune'}\n",
    "my_dict['salary'] = 130000\n",
    "print(my_dict)"
   ]
  },
  {
   "cell_type": "markdown",
   "id": "f7324b7d-5075-42d4-a2d9-bf03208dc575",
   "metadata": {},
   "source": [
    "### Check if a given key already exists in a dictionary."
   ]
  },
  {
   "cell_type": "code",
   "execution_count": 1,
   "id": "1a88022e-8a0b-4603-bac1-8a4fcbc6b8df",
   "metadata": {},
   "outputs": [
    {
     "name": "stdout",
     "output_type": "stream",
     "text": [
      "Enter a key :id\n",
      " id key is present in the dictionary\n"
     ]
    }
   ],
   "source": [
    "my_dict = {'name':'Akshay','id': 13, 'address':'pune'}\n",
    "given_key = input('Enter a key :')\n",
    "if given_key in my_dict:\n",
    "    print(f\" {given_key} key is present in the dictionary\")\n",
    "else:\n",
    "    print(f\" {given_key} key not found in the dictionary\")"
   ]
  },
  {
   "cell_type": "markdown",
   "id": "0475126b-f6c5-4f46-88b7-1202c8e664d7",
   "metadata": {},
   "source": [
    "### Generate and print a dictionary that contains a number (between 1 and n) in the form (x, x*x)"
   ]
  },
  {
   "cell_type": "code",
   "execution_count": 5,
   "id": "c609c305-e490-47ec-a106-61d4f85b4b51",
   "metadata": {},
   "outputs": [
    {
     "name": "stdin",
     "output_type": "stream",
     "text": [
      "Enter number : 5\n"
     ]
    },
    {
     "name": "stdout",
     "output_type": "stream",
     "text": [
      "{1: 1, 2: 4, 3: 9, 4: 16, 5: 25}\n"
     ]
    }
   ],
   "source": [
    "n = int(input(\"Enter number :\"))\n",
    "my_dict = {x: x*x for x in range (1, n+1)}\n",
    "print(my_dict)"
   ]
  },
  {
   "cell_type": "markdown",
   "id": "89a74c0e-13b6-4914-883a-7120d93a3d58",
   "metadata": {},
   "source": [
    "### Print a dictionary where the keys are numbers between 1 and 15 (both included) and the values are square of keys"
   ]
  },
  {
   "cell_type": "code",
   "execution_count": 6,
   "id": "b0817c55-916c-4141-b37b-65d02f3b43c1",
   "metadata": {},
   "outputs": [
    {
     "name": "stdout",
     "output_type": "stream",
     "text": [
      "{1: 1, 2: 4, 3: 9, 4: 16, 5: 25, 6: 36, 7: 49, 8: 64, 9: 81, 10: 100, 11: 121, 12: 144, 13: 169, 14: 196, 15: 225}\n"
     ]
    }
   ],
   "source": [
    "my_dict = {x: x*x for x in range (1, 16)}\n",
    "print(my_dict)"
   ]
  },
  {
   "cell_type": "markdown",
   "id": "60624f79-6d1f-48da-a03c-0c0024005b27",
   "metadata": {},
   "source": [
    "### Merge two Python dictionaries"
   ]
  },
  {
   "cell_type": "code",
   "execution_count": 7,
   "id": "b64a2c8c-48bb-4eba-bf8d-d519772af7f0",
   "metadata": {},
   "outputs": [
    {
     "name": "stdout",
     "output_type": "stream",
     "text": [
      "using update :{'fruit': 'banana', 'vegetables': 'brokly', 'fast_food': 'burger', 'cold_drinks': 'coke'}\n",
      "using dictionary type unpacking :{'fruit': 'banana', 'vegetables': 'brokly', 'fast_food': 'burger', 'cold_drinks': 'coke'}\n"
     ]
    }
   ],
   "source": [
    "dict_1 = {'fruit':'banana','vegetables':'brokly'}\n",
    "dict_2 = {'fast_food':'burger','cold_drinks':'coke'}\n",
    "dict_1.update(dict_2) #using update\n",
    "print(f\"using update :{dict_1}\")\n",
    "my_dict = {**dict_1, **dict_2} #using dictionary unpacking type\n",
    "print(f\"using dictionary type unpacking :{my_dict}\")"
   ]
  },
  {
   "cell_type": "markdown",
   "id": "c078ecd4-63a5-4523-9855-2b6e7f2d1800",
   "metadata": {},
   "source": [
    "### Sum all the items in a dictionary"
   ]
  },
  {
   "cell_type": "code",
   "execution_count": 8,
   "id": "af2d33dc-f8b7-4009-a133-4a6b4e345299",
   "metadata": {},
   "outputs": [
    {
     "name": "stdout",
     "output_type": "stream",
     "text": [
      "sum is: 7\n"
     ]
    }
   ],
   "source": [
    "my_dict = {'a': 1, 'l': 2, 'm': 4}\n",
    "total_sum = sum(my_dict.values())\n",
    "print(f\"sum is: {total_sum}\")"
   ]
  },
  {
   "cell_type": "markdown",
   "id": "377f5410-3587-4bfe-b10c-11aae9e7fd16",
   "metadata": {},
   "source": [
    "### Multiply all the items in a dictionary"
   ]
  },
  {
   "cell_type": "code",
   "execution_count": 9,
   "id": "ece3b3db-786a-4b15-9fb9-bf93bc280eb1",
   "metadata": {},
   "outputs": [
    {
     "name": "stdout",
     "output_type": "stream",
     "text": [
      "120\n"
     ]
    }
   ],
   "source": [
    "my_dict = {'a': 2, 'b': 3, 'c': 4, 'd': 5}\n",
    "result = 1\n",
    "for value in my_dict.values():\n",
    "    result *= value\n",
    "print(result)"
   ]
  },
  {
   "cell_type": "markdown",
   "id": "73b94205-a307-48ac-a82a-e21075158bda",
   "metadata": {},
   "source": [
    "### Map two lists into a dictionary"
   ]
  },
  {
   "cell_type": "code",
   "execution_count": 10,
   "id": "5b07e6a2-eb7a-41fd-b774-e90b4dc8218e",
   "metadata": {},
   "outputs": [
    {
     "name": "stdout",
     "output_type": "stream",
     "text": [
      "The mapped dictionary from lists keys and vlaues :{'a': 3, 'l': 13, 'm': 6}\n"
     ]
    }
   ],
   "source": [
    "keys = ['a', 'l', 'm']\n",
    "values = [3, 13, 6]\n",
    "mapped_dict = dict(zip(keys, values))\n",
    "print(f\"The mapped dictionary from lists keys and vlaues :{mapped_dict}\")"
   ]
  },
  {
   "cell_type": "markdown",
   "id": "f0166621-9af7-418a-b1c6-ffecb60d02fb",
   "metadata": {},
   "source": [
    "### Sort a dictionary by key"
   ]
  },
  {
   "cell_type": "code",
   "execution_count": 11,
   "id": "6eb7f603-fe5d-487b-b40d-053d5460a677",
   "metadata": {},
   "outputs": [
    {
     "name": "stdout",
     "output_type": "stream",
     "text": [
      "dictionary sort by key {'a': 95, 'b': 31, 'c': 233, 'd': 114}\n"
     ]
    }
   ],
   "source": [
    "my_dict = {'c': 233, 'b': 31, 'd': 114, 'a': 95}\n",
    "sorted_my_dict = dict(sorted(my_dict.items()))\n",
    "print(f\"dictionary sort by key {sorted_my_dict}\")"
   ]
  },
  {
   "cell_type": "markdown",
   "id": "eefa7875-9037-41c3-bd8a-da268adc16b8",
   "metadata": {},
   "source": [
    "### Get the maximum and minimum value in a dictionary."
   ]
  },
  {
   "cell_type": "code",
   "execution_count": 12,
   "id": "132ed173-65f0-4539-85e7-0cefd7850852",
   "metadata": {},
   "outputs": [
    {
     "name": "stdout",
     "output_type": "stream",
     "text": [
      "maximum value in dictionary :233\n",
      "minimum value in dictionary :31\n"
     ]
    }
   ],
   "source": [
    "my_dict = {'c': 233, 'b': 31, 'd': 114, 'a': 95}\n",
    "max_val = max(my_dict.values())\n",
    "min_val = min(my_dict.values())\n",
    "print(f\"maximum value in dictionary :{max_val}\\nminimum value in dictionary :{min_val}\")"
   ]
  },
  {
   "cell_type": "markdown",
   "id": "6a1a6728-96cd-463f-a9b0-7fcb29af9971",
   "metadata": {},
   "source": [
    "### Remove duplicates from Dictionary"
   ]
  },
  {
   "cell_type": "code",
   "execution_count": 13,
   "id": "298a0af3-ae60-4372-bee4-c2ee2b80efec",
   "metadata": {},
   "outputs": [
    {
     "name": "stdout",
     "output_type": "stream",
     "text": [
      "Original Dictionary :{'a': 1, 'b': 2, 'c': 1, 'd': 3, 'e': 2}\n",
      "Unique Dictionary :{'a': 1, 'b': 2, 'd': 3}\n"
     ]
    }
   ],
   "source": [
    "my_dict = {'a': 1, 'b': 2, 'c': 1, 'd': 3, 'e': 2}\n",
    "# unique_dict = {key: value for key, value in my_dict.items()}\n",
    "unique_dict = {}\n",
    "seen_values = set()\n",
    "\n",
    "for key, value in my_dict.items():\n",
    "    if value not in seen_values:\n",
    "        unique_dict[key] = value\n",
    "        seen_values.add(value)\n",
    "\n",
    "print(f\"Original Dictionary :{my_dict}\\nUnique Dictionary :{unique_dict}\")"
   ]
  },
  {
   "cell_type": "markdown",
   "id": "bd405801-be09-4199-9d3f-18d7bbd45c2b",
   "metadata": {},
   "source": [
    "### Combine two dictionary adding values for common keys."
   ]
  },
  {
   "cell_type": "code",
   "execution_count": 14,
   "id": "bb80842a-cfe5-4fb7-af48-ca3d0ec1baab",
   "metadata": {},
   "outputs": [
    {
     "name": "stdout",
     "output_type": "stream",
     "text": [
      "COmbined dictionary  :{'a': 7, 'b': 18, 'c': 3, 'd': 7}\n"
     ]
    }
   ],
   "source": [
    "from collections import Counter\n",
    "dict1 = {'a': 5, 'b': 10, 'c': 3}\n",
    "dict2 = {'a': 2, 'b': 8, 'd': 7}\n",
    "combined_dict = dict(Counter(dict1) + Counter(dict2))\n",
    "print(f\"COmbined dictionary  :{combined_dict}\")"
   ]
  },
  {
   "cell_type": "markdown",
   "id": "fd72c6ec-c0b0-42b8-92dc-e9c6add86d8d",
   "metadata": {},
   "source": [
    "### Print all unique values in a dictionary. "
   ]
  },
  {
   "cell_type": "code",
   "execution_count": 15,
   "id": "6c6de2f1-220a-468d-adf8-96805683ed8b",
   "metadata": {},
   "outputs": [
    {
     "name": "stdout",
     "output_type": "stream",
     "text": [
      "Unique values: {8, 10, 5}\n"
     ]
    }
   ],
   "source": [
    "my_dict = {'a': 5, 'b': 10, 'c': 5, 'd': 8, 'e': 10}\n",
    "unique_values = set(my_dict.values())\n",
    "\n",
    "print(\"Unique values:\", unique_values)"
   ]
  },
  {
   "cell_type": "markdown",
   "id": "340902bd-954f-4712-9f41-31567533b8f6",
   "metadata": {},
   "source": [
    "### Create and display all combinations of letters, selecting each letter from a different key in a dictionary"
   ]
  },
  {
   "cell_type": "code",
   "execution_count": 16,
   "id": "7dc5c463-0b54-414c-bfd5-111964fdcf49",
   "metadata": {},
   "outputs": [
    {
     "name": "stdout",
     "output_type": "stream",
     "text": [
      "All combinations of letters:\n",
      "ad1\n",
      "ad2\n",
      "ae1\n",
      "ae2\n",
      "bd1\n",
      "bd2\n",
      "be1\n",
      "be2\n"
     ]
    }
   ],
   "source": [
    "from itertools import product\n",
    "\n",
    "my_dict = {'key1': 'ab', 'key2': 'de', 'key3': '12'}\n",
    "combinations = list(product(*[my_dict[key] for key in my_dict]))\n",
    "\n",
    "print(\"All combinations of letters:\")\n",
    "for combo in combinations:\n",
    "    print(''.join(combo))"
   ]
  },
  {
   "cell_type": "markdown",
   "id": "06f3ee82-07b8-4657-8bce-926a5e55f338",
   "metadata": {},
   "source": [
    "### Find the highest 3 values in a dictionary.\n"
   ]
  },
  {
   "cell_type": "code",
   "execution_count": 19,
   "id": "97e7db51-590f-4a3d-bd50-933da16c21a4",
   "metadata": {},
   "outputs": [
    {
     "name": "stdout",
     "output_type": "stream",
     "text": [
      "Highest 3 values:\n",
      "e : 30\n",
      "c : 25\n",
      "d : 18\n"
     ]
    }
   ],
   "source": [
    "my_dict = {'a': 15, 'b': 10, 'c': 25, 'd': 18, 'e': 30}\n",
    "highest_values = sorted(my_dict.items(), key=lambda x: x[1], reverse=True)[:3]\n",
    "\n",
    "print(\"Highest 3 values:\")\n",
    "for key, value in highest_values:\n",
    "    print(f\"{key} : {value}\")\n"
   ]
  },
  {
   "cell_type": "markdown",
   "id": "12379c5a-6a64-456c-8a4a-815846ff62cf",
   "metadata": {},
   "source": [
    "### Combine values in python list of dictionaries.\n"
   ]
  },
  {
   "cell_type": "code",
   "execution_count": 20,
   "id": "47fc20cf-aa49-41e0-8553-52ea9314904c",
   "metadata": {},
   "outputs": [
    {
     "name": "stdout",
     "output_type": "stream",
     "text": [
      "Combined Dictionary: {'a': 5, 'b': 14, 'c': 11, 'd': 6, 'e': 9}\n"
     ]
    }
   ],
   "source": [
    "list_of_dicts = [\n",
    "    {'a': 1, 'b': 2, 'c': 3},\n",
    "    {'a': 4, 'b': 5, 'd': 6},\n",
    "    {'b': 7, 'c': 8, 'e': 9}\n",
    "]\n",
    "\n",
    "combined_dict = {}\n",
    "\n",
    "for dictionary in list_of_dicts:\n",
    "    for key, value in dictionary.items():\n",
    "        combined_dict[key] = combined_dict.get(key, 0) + value\n",
    "\n",
    "print(\"Combined Dictionary:\", combined_dict)\n"
   ]
  },
  {
   "cell_type": "markdown",
   "id": "64d588ed-9c02-4b1f-91c4-d5b77e491aa2",
   "metadata": {},
   "source": [
    "### Create a dictionary from a string. \n"
   ]
  },
  {
   "cell_type": "code",
   "execution_count": 24,
   "id": "7a8f4080-ee4b-47cc-91f5-727d8ca549f1",
   "metadata": {},
   "outputs": [
    {
     "name": "stdout",
     "output_type": "stream",
     "text": [
      "string dictionary: {\"name\": \"Akshay\", \"id\": 13, \"address\": \"Pune\"}\n",
      "my_dict: {'name': 'Akshay', 'id': 13, 'address': 'Pune'}\n",
      "type of dict_str: <class 'str'>\n",
      "type of my_dict: <class 'dict'>\n"
     ]
    }
   ],
   "source": [
    "import json\n",
    "\n",
    "dict_str = '{\"name\": \"Akshay\", \"id\": 13, \"address\": \"Pune\"}'\n",
    "my_dict = json.loads(dict_str)\n",
    "print(f\"string dictionary: {dict_str}\")\n",
    "print(f\"my_dict: {my_dict}\")\n",
    "print(f\"type of dict_str: {type(dict_str)}\")\n",
    "print(f\"type of my_dict: {type(my_dict)}\")\n"
   ]
  },
  {
   "cell_type": "markdown",
   "id": "7b5cae64-3d28-4d83-ae56-273bc5fc281b",
   "metadata": {},
   "source": [
    "### Print a dictionary in table format. \n"
   ]
  },
  {
   "cell_type": "code",
   "execution_count": 2,
   "id": "5ce0793d-1210-4e96-977b-166d5bbc1055",
   "metadata": {},
   "outputs": [
    {
     "name": "stdout",
     "output_type": "stream",
     "text": [
      "+---------+--------+\n",
      "|   Key   | Value  |\n",
      "+---------+--------+\n",
      "|  name   | Akshay |\n",
      "|   id    |   13   |\n",
      "| address |  Pune  |\n",
      "+---------+--------+\n"
     ]
    }
   ],
   "source": [
    "from tabulate import tabulate\n",
    "my_dict = {'name': 'Akshay', 'id': 13, 'address': 'Pune'}\n",
    "table = tabulate(my_dict.items(), headers=['Key', 'Value'], tablefmt='pretty')\n",
    "print(table)"
   ]
  },
  {
   "cell_type": "markdown",
   "id": "451891ad-0a93-49dc-8fdf-bff218b86b46",
   "metadata": {},
   "source": [
    "### Count the values associated with key in a dictionary\n"
   ]
  },
  {
   "cell_type": "code",
   "execution_count": 5,
   "id": "6af62f4d-c6a7-4af4-acfa-c322e826647a",
   "metadata": {},
   "outputs": [
    {
     "name": "stdout",
     "output_type": "stream",
     "text": [
      "Value counts for key 'd': {3: 1}\n"
     ]
    }
   ],
   "source": [
    "my_dict = {'a': 1, 'b': 2, 'c': 1, 'd': 3, 'e': 2, 'f': 1,}\n",
    "\n",
    "key_to_count = 'd'\n",
    "value_counts = {}\n",
    "\n",
    "for key, value in my_dict.items():\n",
    "    if key == key_to_count:\n",
    "        value_counts[value] = value_counts.get(value, 0) + 1\n",
    "\n",
    "print(f\"Value counts for key '{key_to_count}': {value_counts}\")\n"
   ]
  },
  {
   "cell_type": "markdown",
   "id": "deac7c25-5b1c-4158-be7b-a3621b6d3c5d",
   "metadata": {},
   "source": [
    "### Convert a list into a nested dictionary of keys. \n"
   ]
  },
  {
   "cell_type": "code",
   "execution_count": 3,
   "id": "4b2421c4-0a00-4edb-961b-b9a8525a0dc7",
   "metadata": {},
   "outputs": [
    {
     "name": "stdout",
     "output_type": "stream",
     "text": [
      "nested dictionary :{'a': {'k': {'s': {'h': {}}}}}\n"
     ]
    }
   ],
   "source": [
    "def list_to_key_nested(keys):\n",
    "    result ={}\n",
    "    current_dict = result\n",
    "    for k in keys:\n",
    "        current_dict[k] = {}\n",
    "        current_dict = current_dict[k]\n",
    "    return result\n",
    "    \n",
    "key_list = ['a','k','s','h']\n",
    "nested_dict = list_to_key_nested(key_list)\n",
    "print(f\"nested dictionary :{nested_dict}\")"
   ]
  },
  {
   "cell_type": "markdown",
   "id": "ff587c2a",
   "metadata": {},
   "source": [
    "### Sort a list alphabetically in a dictionary.\n"
   ]
  },
  {
   "cell_type": "code",
   "execution_count": 5,
   "id": "7e5add41-a49f-4732-a1e7-dddff1c5430f",
   "metadata": {},
   "outputs": [
    {
     "name": "stdout",
     "output_type": "stream",
     "text": [
      "Sorted dictionary: {'fruits': ['apple', 'banana', 'orange'], 'colors': ['blue', 'green', 'red'], 'places': ['bangalore', 'mumbai', 'pune']}\n"
     ]
    }
   ],
   "source": [
    "my_dict = {'fruits': ['apple', 'banana', 'orange'],\n",
    "           'colors': ['red', 'green', 'blue'],\n",
    "           'places': ['pune', 'mumbai', 'bangalore']\n",
    "           }\n",
    "\n",
    "for key, value in my_dict.items():\n",
    "    my_dict[key] = sorted(value)\n",
    "\n",
    "print(f\"Sorted dictionary: {my_dict}\")\n"
   ]
  },
  {
   "cell_type": "markdown",
   "id": "ad018951",
   "metadata": {},
   "source": [
    "### Remove spaces from dictionary keys. \n"
   ]
  },
  {
   "cell_type": "code",
   "execution_count": 7,
   "id": "e2e950eb",
   "metadata": {},
   "outputs": [
    {
     "name": "stdout",
     "output_type": "stream",
     "text": [
      "Original dictionary :{'key with space': 1, 'another key': 2, 'third key': 3}\n",
      "New dictionary with removed spaces :{'keywithspace': 1, 'anotherkey': 2, 'thirdkey': 3}\n"
     ]
    }
   ],
   "source": [
    "original_dict = {'key with space': 1, 'another key': 2, 'third key': 3}\n",
    "\n",
    "new_dict = {key.replace(' ', ''): value for key, value in original_dict.items()}\n",
    "print(f\"Original dictionary :{original_dict}\\nNew dictionary with removed spaces :{new_dict}\")\n"
   ]
  },
  {
   "cell_type": "markdown",
   "id": "0d6ee2b7",
   "metadata": {},
   "source": [
    "### Get the top three items in a shop.\n"
   ]
  },
  {
   "cell_type": "code",
   "execution_count": 10,
   "id": "24dc5fd2",
   "metadata": {},
   "outputs": [
    {
     "name": "stdout",
     "output_type": "stream",
     "text": [
      "Top Three Items in the Shop: {'item3': 80, 'item5': 60, 'item1': 50}\n"
     ]
    }
   ],
   "source": [
    "shop_items = {\n",
    "    'item1': 50,\n",
    "    'item2': 30,\n",
    "    'item3': 80,\n",
    "    'item4': 20,\n",
    "    'item5': 60\n",
    "}\n",
    "\n",
    "top_three_items = dict(sorted(shop_items.items(), key=lambda item: item[1], reverse=True)[:3])\n",
    "\n",
    "print(\"Top Three Items in the Shop:\", top_three_items)\n"
   ]
  },
  {
   "cell_type": "markdown",
   "id": "6df1d080",
   "metadata": {},
   "source": [
    "### To get the key, value and item in a dictionary. \n"
   ]
  },
  {
   "cell_type": "code",
   "execution_count": 11,
   "id": "c27cd8ca",
   "metadata": {},
   "outputs": [
    {
     "name": "stdout",
     "output_type": "stream",
     "text": [
      "Key: akshay, Value: 5\n",
      "Key: sachin, Value: 2\n",
      "Key: suresh, Value: 8\n"
     ]
    }
   ],
   "source": [
    "my_dict = {'akshay': 5, 'sachin': 2, 'suresh': 8}\n",
    "\n",
    "for key, value in my_dict.items():\n",
    "    print(f\"Key: {key}, Value: {value}\")\n"
   ]
  },
  {
   "cell_type": "markdown",
   "id": "649ab5cf",
   "metadata": {},
   "source": [
    "### print a dictionary line by line. \n"
   ]
  },
  {
   "cell_type": "code",
   "execution_count": 12,
   "id": "4c0211ed",
   "metadata": {},
   "outputs": [
    {
     "name": "stdout",
     "output_type": "stream",
     "text": [
      "akshay: 5\n",
      "sachin: 2\n",
      "suresh: 8\n"
     ]
    }
   ],
   "source": [
    "my_dict = {'akshay': 5, 'sachin': 2, 'suresh': 8}\n",
    "\n",
    "for key, value in my_dict.items():\n",
    "    print(f\"{key}: {value}\")\n"
   ]
  },
  {
   "cell_type": "markdown",
   "id": "49dfd6be",
   "metadata": {},
   "source": [
    "### Check multiple keys exists in a dictionary.\n"
   ]
  },
  {
   "cell_type": "code",
   "execution_count": 15,
   "id": "53e9d6d4",
   "metadata": {},
   "outputs": [
    {
     "name": "stdout",
     "output_type": "stream",
     "text": [
      "Present keys in dictionary :{'akshay', 'sachin'}\n",
      "The keys which are not present :{'banana'}\n"
     ]
    }
   ],
   "source": [
    "my_dict = {'akshay': 5, 'sachin': 2, 'suresh': 8}\n",
    "\n",
    "keys_to_check = ['akshay', 'banana', 'sachin']\n",
    "\n",
    "present_keys = set(my_dict.keys()) & set(keys_to_check)\n",
    "not_present_keys = set(keys_to_check) - set(my_dict.keys())\n",
    "\n",
    "print(f\"Present keys in dictionary :{present_keys}\\nThe keys which are not present :{not_present_keys}\")\n"
   ]
  },
  {
   "cell_type": "markdown",
   "id": "ac076db5",
   "metadata": {},
   "source": [
    "### Count number of items in a dictionary value that is a list\n"
   ]
  },
  {
   "cell_type": "code",
   "execution_count": 17,
   "id": "76b7b5b5",
   "metadata": {},
   "outputs": [
    {
     "name": "stdout",
     "output_type": "stream",
     "text": [
      "fruits: 3 items\n",
      "colors: 6 items\n",
      "places: 4 items\n"
     ]
    }
   ],
   "source": [
    "my_dict = {'fruits': ['apple', 'banana', 'orange'],\n",
    "           'colors': ['red', 'green', 'blue','violet','yellow','black'],\n",
    "           'places': ['pune', 'mumbai', 'bangalore','ayodhya']}\n",
    "\n",
    "for key, value in my_dict.items():\n",
    "    count_items = len(value)\n",
    "    print(f\"{key}: {count_items} items\")\n"
   ]
  },
  {
   "cell_type": "markdown",
   "id": "8fd2687f",
   "metadata": {},
   "source": [
    "### Sort Counter by value. \n"
   ]
  },
  {
   "cell_type": "code",
   "execution_count": 21,
   "id": "e53784b7",
   "metadata": {},
   "outputs": [
    {
     "name": "stdout",
     "output_type": "stream",
     "text": [
      "Sorted Counter by Value:\n",
      "{'banana': 2, 'kiwi': 3, 'apple': 5, 'grape': 5, 'orange': 8}\n"
     ]
    }
   ],
   "source": [
    "from collections import Counter\n",
    "\n",
    "my_counter = Counter({'apple': 5, 'banana': 2, 'orange': 8, 'grape': 5, 'kiwi': 3})\n",
    "sorted_counter = dict(sorted(my_counter.items(), key=lambda item: item[1])) # Reverse = True\n",
    "\n",
    "print(\"Sorted Counter by Value:\")\n",
    "print(sorted_counter)\n"
   ]
  },
  {
   "cell_type": "markdown",
   "id": "c7f2e8c4",
   "metadata": {},
   "source": [
    "### create a dictionary from two lists without losing duplicate values. \n"
   ]
  },
  {
   "cell_type": "code",
   "execution_count": 24,
   "id": "e3ff2acc",
   "metadata": {},
   "outputs": [
    {
     "name": "stdout",
     "output_type": "stream",
     "text": [
      "Resulting Dictionary :{'a': 4, 'b': 2, 'c': 3}\n"
     ]
    }
   ],
   "source": [
    "keys = ['a', 'b', 'c', 'a']\n",
    "values = [1, 2, 3, 4]\n",
    "\n",
    "my_dict = {k: v for k, v in zip(keys, values)}\n",
    "\n",
    "print(f\"Resulting Dictionary :{my_dict}\")\n"
   ]
  },
  {
   "cell_type": "markdown",
   "id": "bdd88a3f",
   "metadata": {},
   "source": [
    "### Replace dictionary values with their sum. \n"
   ]
  },
  {
   "cell_type": "code",
   "execution_count": 23,
   "id": "3c56bb31",
   "metadata": {},
   "outputs": [
    {
     "name": "stdout",
     "output_type": "stream",
     "text": [
      "Updated Dictionary :{'a': 30, 'b': 30, 'c': 30}\n"
     ]
    }
   ],
   "source": [
    "my_dict = {'a': 5, 'b': 10, 'c': 15}\n",
    "sum_values = sum(my_dict.values())\n",
    "\n",
    "my_dict.update((key, sum_values) for key in my_dict)\n",
    "\n",
    "print(f\"Updated Dictionary :{my_dict}\")\n"
   ]
  },
  {
   "cell_type": "markdown",
   "id": "0418b441",
   "metadata": {},
   "source": [
    "### Match key values in two dictionaries. \n"
   ]
  },
  {
   "cell_type": "code",
   "execution_count": 25,
   "id": "63f6e3c7",
   "metadata": {},
   "outputs": [
    {
     "name": "stdout",
     "output_type": "stream",
     "text": [
      "Matching Keys and Values:\n",
      "a: 5 (dict1) - 5 (dict2)\n",
      "c: 15 (dict1) - 15 (dict2)\n"
     ]
    }
   ],
   "source": [
    "dict1 = {'a': 5, 'b': 10, 'c': 15}\n",
    "dict2 = {'a': 5, 'b': 20, 'c': 15}\n",
    "\n",
    "matching_keys = [key for key in dict1 if key in dict2 and dict1[key] == dict2[key]]\n",
    "\n",
    "print(\"Matching Keys and Values:\")\n",
    "for key in matching_keys:\n",
    "    print(f\"{key}: {dict1[key]} (dict1) - {dict2[key]} (dict2)\")\n"
   ]
  },
  {
   "cell_type": "code",
   "execution_count": null,
   "id": "d9b72655",
   "metadata": {},
   "outputs": [],
   "source": []
  }
 ],
 "metadata": {
  "kernelspec": {
   "display_name": "Python 3 (ipykernel)",
   "language": "python",
   "name": "python3"
  },
  "language_info": {
   "codemirror_mode": {
    "name": "ipython",
    "version": 3
   },
   "file_extension": ".py",
   "mimetype": "text/x-python",
   "name": "python",
   "nbconvert_exporter": "python",
   "pygments_lexer": "ipython3",
   "version": "3.9.7"
  },
  "varInspector": {
   "cols": {
    "lenName": 16,
    "lenType": 16,
    "lenVar": 40
   },
   "kernels_config": {
    "python": {
     "delete_cmd_postfix": "",
     "delete_cmd_prefix": "del ",
     "library": "var_list.py",
     "varRefreshCmd": "print(var_dic_list())"
    },
    "r": {
     "delete_cmd_postfix": ") ",
     "delete_cmd_prefix": "rm(",
     "library": "var_list.r",
     "varRefreshCmd": "cat(var_dic_list()) "
    }
   },
   "types_to_exclude": [
    "module",
    "function",
    "builtin_function_or_method",
    "instance",
    "_Feature"
   ],
   "window_display": false
  }
 },
 "nbformat": 4,
 "nbformat_minor": 5
}
